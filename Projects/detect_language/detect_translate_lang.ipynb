{
 "cells": [
  {
   "cell_type": "code",
   "execution_count": 6,
   "metadata": {
    "collapsed": true,
    "ExecuteTime": {
     "start_time": "2023-04-12T12:17:13.564671Z",
     "end_time": "2023-04-12T12:17:13.590676Z"
    }
   },
   "outputs": [
    {
     "name": "stdout",
     "output_type": "stream",
     "text": [
      "en\n"
     ]
    }
   ],
   "source": [
    "from langdetect import detect\n",
    "\n",
    "# Define the text for language detection\n",
    "text = \"Hello, how are you?\"\n",
    "\n",
    "# Detect the language of the text\n",
    "detected_lang = detect(text)\n",
    "\n",
    "# Print the detected language\n",
    "print(detected_lang)"
   ]
  },
  {
   "cell_type": "code",
   "execution_count": 37,
   "outputs": [
    {
     "name": "stdout",
     "output_type": "stream",
     "text": [
      "..Доброе утро.\n"
     ]
    }
   ],
   "source": [
    "from translate import Translator\n",
    "\n",
    "# Define the source text and source language\n",
    "text = \"Добрий ранок\"  # English\n",
    "from_lang = \"uk\"\n",
    "\n",
    "# Translate to Russian\n",
    "to_lang = \"ru\"\n",
    "translator = Translator(from_lang=from_lang, to_lang=to_lang)\n",
    "translation = translator.translate(text)\n",
    "print(translation)\n"
   ],
   "metadata": {
    "collapsed": false,
    "ExecuteTime": {
     "start_time": "2023-04-14T14:09:04.388609Z",
     "end_time": "2023-04-14T14:09:05.251618Z"
    }
   }
  },
  {
   "cell_type": "code",
   "execution_count": 48,
   "outputs": [],
   "source": [
    "def detect_translate(text):\n",
    "    translator = Translator(from_lang=detect(text), to_lang=\"ru\")\n",
    "    translation = translator.translate(text)\n",
    "    return translation"
   ],
   "metadata": {
    "collapsed": false,
    "ExecuteTime": {
     "start_time": "2023-04-14T14:13:36.681355Z",
     "end_time": "2023-04-14T14:13:36.693356Z"
    }
   }
  },
  {
   "cell_type": "code",
   "execution_count": 50,
   "outputs": [
    {
     "data": {
      "text/plain": "'Слава Украине!'"
     },
     "execution_count": 50,
     "metadata": {},
     "output_type": "execute_result"
    }
   ],
   "source": [
    "detect_translate(\"Слава Україні\")"
   ],
   "metadata": {
    "collapsed": false,
    "ExecuteTime": {
     "start_time": "2023-04-14T14:14:04.371342Z",
     "end_time": "2023-04-14T14:14:05.331567Z"
    }
   }
  },
  {
   "cell_type": "code",
   "execution_count": 4,
   "outputs": [],
   "source": [
    "import speech_recognition as sr\n",
    "def record_volume():\n",
    "    r = sr.Recognizer()\n",
    "    with sr.Microphone(device_index = 1) as source:\n",
    "        print('Слушаю')\n",
    "        audio = r.listen(source)\n",
    "    query = r.recognize_google(audio, language=\"uk-UK\")\n",
    "    print(query)"
   ],
   "metadata": {
    "collapsed": false,
    "ExecuteTime": {
     "start_time": "2023-04-24T03:42:08.915813Z",
     "end_time": "2023-04-24T03:42:08.921814Z"
    }
   }
  },
  {
   "cell_type": "code",
   "execution_count": 5,
   "outputs": [
    {
     "name": "stdout",
     "output_type": "stream",
     "text": [
      "Слушаю\n"
     ]
    },
    {
     "ename": "UnknownValueError",
     "evalue": "",
     "output_type": "error",
     "traceback": [
      "\u001B[1;31m---------------------------------------------------------------------------\u001B[0m",
      "\u001B[1;31mUnknownValueError\u001B[0m                         Traceback (most recent call last)",
      "Cell \u001B[1;32mIn[5], line 1\u001B[0m\n\u001B[1;32m----> 1\u001B[0m \u001B[43mrecord_volume\u001B[49m\u001B[43m(\u001B[49m\u001B[43m)\u001B[49m\n",
      "Cell \u001B[1;32mIn[4], line 7\u001B[0m, in \u001B[0;36mrecord_volume\u001B[1;34m()\u001B[0m\n\u001B[0;32m      5\u001B[0m     \u001B[38;5;28mprint\u001B[39m(\u001B[38;5;124m'\u001B[39m\u001B[38;5;124mСлушаю\u001B[39m\u001B[38;5;124m'\u001B[39m)\n\u001B[0;32m      6\u001B[0m     audio \u001B[38;5;241m=\u001B[39m r\u001B[38;5;241m.\u001B[39mlisten(source)\n\u001B[1;32m----> 7\u001B[0m query \u001B[38;5;241m=\u001B[39m \u001B[43mr\u001B[49m\u001B[38;5;241;43m.\u001B[39;49m\u001B[43mrecognize_google\u001B[49m\u001B[43m(\u001B[49m\u001B[43maudio\u001B[49m\u001B[43m,\u001B[49m\u001B[43m \u001B[49m\u001B[43mlanguage\u001B[49m\u001B[38;5;241;43m=\u001B[39;49m\u001B[38;5;124;43m\"\u001B[39;49m\u001B[38;5;124;43mauto\u001B[39;49m\u001B[38;5;124;43m\"\u001B[39;49m\u001B[43m)\u001B[49m\n\u001B[0;32m      8\u001B[0m \u001B[38;5;28mprint\u001B[39m(query)\n",
      "File \u001B[1;32m~\\anaconda3\\Lib\\site-packages\\speech_recognition\\__init__.py:728\u001B[0m, in \u001B[0;36mRecognizer.recognize_google\u001B[1;34m(self, audio_data, key, language, pfilter, show_all, with_confidence)\u001B[0m\n\u001B[0;32m    725\u001B[0m \u001B[38;5;28;01mif\u001B[39;00m show_all:\n\u001B[0;32m    726\u001B[0m     \u001B[38;5;28;01mreturn\u001B[39;00m actual_result\n\u001B[1;32m--> 728\u001B[0m \u001B[38;5;28;01mif\u001B[39;00m \u001B[38;5;129;01mnot\u001B[39;00m \u001B[38;5;28misinstance\u001B[39m(actual_result, \u001B[38;5;28mdict\u001B[39m) \u001B[38;5;129;01mor\u001B[39;00m \u001B[38;5;28mlen\u001B[39m(actual_result\u001B[38;5;241m.\u001B[39mget(\u001B[38;5;124m\"\u001B[39m\u001B[38;5;124malternative\u001B[39m\u001B[38;5;124m\"\u001B[39m, [])) \u001B[38;5;241m==\u001B[39m \u001B[38;5;241m0\u001B[39m: \u001B[38;5;28;01mraise\u001B[39;00m UnknownValueError()\n\u001B[0;32m    730\u001B[0m \u001B[38;5;28;01mif\u001B[39;00m \u001B[38;5;124m\"\u001B[39m\u001B[38;5;124mconfidence\u001B[39m\u001B[38;5;124m\"\u001B[39m \u001B[38;5;129;01min\u001B[39;00m actual_result[\u001B[38;5;124m\"\u001B[39m\u001B[38;5;124malternative\u001B[39m\u001B[38;5;124m\"\u001B[39m]:\n\u001B[0;32m    731\u001B[0m     \u001B[38;5;66;03m# return alternative with highest confidence score\u001B[39;00m\n\u001B[0;32m    732\u001B[0m     best_hypothesis \u001B[38;5;241m=\u001B[39m \u001B[38;5;28mmax\u001B[39m(actual_result[\u001B[38;5;124m\"\u001B[39m\u001B[38;5;124malternative\u001B[39m\u001B[38;5;124m\"\u001B[39m], key\u001B[38;5;241m=\u001B[39m\u001B[38;5;28;01mlambda\u001B[39;00m alternative: alternative[\u001B[38;5;124m\"\u001B[39m\u001B[38;5;124mconfidence\u001B[39m\u001B[38;5;124m\"\u001B[39m])\n",
      "\u001B[1;31mUnknownValueError\u001B[0m: "
     ]
    }
   ],
   "source": [
    "record_volume()"
   ],
   "metadata": {
    "collapsed": false,
    "ExecuteTime": {
     "start_time": "2023-04-24T03:41:24.429113Z",
     "end_time": "2023-04-24T03:41:37.276762Z"
    }
   }
  },
  {
   "cell_type": "code",
   "execution_count": null,
   "outputs": [],
   "source": [],
   "metadata": {
    "collapsed": false
   }
  }
 ],
 "metadata": {
  "kernelspec": {
   "display_name": "Python 3",
   "language": "python",
   "name": "python3"
  },
  "language_info": {
   "codemirror_mode": {
    "name": "ipython",
    "version": 2
   },
   "file_extension": ".py",
   "mimetype": "text/x-python",
   "name": "python",
   "nbconvert_exporter": "python",
   "pygments_lexer": "ipython2",
   "version": "2.7.6"
  }
 },
 "nbformat": 4,
 "nbformat_minor": 0
}
