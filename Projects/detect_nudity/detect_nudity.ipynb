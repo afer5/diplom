{
 "cells": [
  {
   "cell_type": "code",
   "execution_count": 1,
   "metadata": {
    "collapsed": true,
    "ExecuteTime": {
     "start_time": "2023-04-26T20:16:14.892194Z",
     "end_time": "2023-04-26T20:16:16.086800Z"
    }
   },
   "outputs": [
    {
     "name": "stdout",
     "output_type": "stream",
     "text": [
      "0.9986081719398499\n"
     ]
    }
   ],
   "source": [
    "from nudenet import NudeClassifier\n",
    "\n",
    "c= NudeClassifier()\n",
    "data = c.classify(\"3.jpg\")\n",
    "print(data['3.jpg']['unsafe'])\n"
   ]
  },
  {
   "cell_type": "code",
   "execution_count": 2,
   "outputs": [],
   "source": [
    "def detect_nude_photo(photo):\n",
    "    c = NudeClassifier()\n",
    "    data = c.classify(photo)\n",
    "    if data[photo]['safe']<0.9:\n",
    "        return 1 #nude\n",
    "    else:\n",
    "        return 0 #not nude"
   ],
   "metadata": {
    "collapsed": false,
    "ExecuteTime": {
     "start_time": "2023-04-26T20:16:16.089801Z",
     "end_time": "2023-04-26T20:16:16.102803Z"
    }
   }
  },
  {
   "cell_type": "code",
   "execution_count": 3,
   "outputs": [],
   "source": [
    "def detect_nude_video(video):\n",
    "    c = NudeClassifier()\n",
    "    data = c.classify_video(video)\n",
    "    unsafe_sum = 0.0\n",
    "    for key, value in data['preds'].items():\n",
    "        unsafe_sum += value['unsafe']\n",
    "    unsafe_count = sum(1 for value in data['preds'].values() if value['unsafe'])\n",
    "    if unsafe_sum/unsafe_count < 0.21:\n",
    "        return (0) #safe\n",
    "    else:\n",
    "        return (1) #unsafe"
   ],
   "metadata": {
    "collapsed": false,
    "ExecuteTime": {
     "start_time": "2023-04-26T20:16:16.103804Z",
     "end_time": "2023-04-26T20:16:16.148238Z"
    }
   }
  },
  {
   "cell_type": "code",
   "execution_count": 4,
   "outputs": [
    {
     "name": "stdout",
     "output_type": "stream",
     "text": [
      "{'metadata': {'fps': 30.0, 'video_length': 414, 'video_path': 'C:/doge.mp4'}, 'preds': {1: {'unsafe': 0.017540593, 'safe': 0.9824594}, 16: {'unsafe': 0.017783763, 'safe': 0.98221624}, 31: {'unsafe': 0.22254926, 'safe': 0.77745074}, 46: {'unsafe': 0.18441097, 'safe': 0.815589}, 61: {'safe': 0.32762992, 'unsafe': 0.6723701}, 76: {'safe': 0.34842148, 'unsafe': 0.6515785}, 91: {'unsafe': 0.20362556, 'safe': 0.7963744}, 106: {'unsafe': 0.14616475, 'safe': 0.8538353}, 121: {'unsafe': 0.08884083, 'safe': 0.91115916}, 136: {'unsafe': 0.06885702, 'safe': 0.9311429}, 151: {'unsafe': 0.02861027, 'safe': 0.9713897}, 181: {'unsafe': 0.06825086, 'safe': 0.9317491}, 226: {'unsafe': 0.038554545, 'safe': 0.9614455}, 241: {'unsafe': 0.15667067, 'safe': 0.84332937}, 256: {'unsafe': 0.011018365, 'safe': 0.9889816}, 271: {'unsafe': 0.014856313, 'safe': 0.9851437}, 286: {'unsafe': 0.017909266, 'safe': 0.9820908}, 301: {'unsafe': 0.03475241, 'safe': 0.96524763}, 316: {'unsafe': 0.097001724, 'safe': 0.9029982}, 331: {'unsafe': 0.07290784, 'safe': 0.92709213}, 346: {'unsafe': 0.007673453, 'safe': 0.9923266}, 361: {'unsafe': 0.032058306, 'safe': 0.96794176}, 376: {'unsafe': 0.006715116, 'safe': 0.99328494}, 391: {'unsafe': 0.036140025, 'safe': 0.9638599}, 406: {'unsafe': 0.04040112, 'safe': 0.9595989}}}\n",
      "Sum of 'unsafe' probabilities: 2.9372415938414633\n",
      "Count of 'unsafe' probabilities above threshold: 25\n",
      "0.11748966375365853\n",
      "0\n"
     ]
    }
   ],
   "source": [
    "c = NudeClassifier()\n",
    "path = 'C:/doge.mp4'\n",
    "data = c.classify_video(path)\n",
    "print(data)\n",
    "unsafe_sum = 0.0\n",
    "for key, value in data['preds'].items():\n",
    "    unsafe_sum += value['unsafe']\n",
    "\n",
    "print(\"Sum of 'unsafe' probabilities:\", unsafe_sum)\n",
    "unsafe_count = sum(1 for value in data['preds'].values() if value['unsafe'])\n",
    "\n",
    "print(\"Count of 'unsafe' probabilities above threshold:\", unsafe_count)\n",
    "print(unsafe_sum/unsafe_count)\n",
    "if unsafe_sum/unsafe_count<0.21:\n",
    "    print(0) #safe\n",
    "else:\n",
    "    print(1) #unsafe"
   ],
   "metadata": {
    "collapsed": false,
    "ExecuteTime": {
     "start_time": "2023-04-26T20:16:16.121233Z",
     "end_time": "2023-04-26T20:16:19.328247Z"
    }
   }
  },
  {
   "cell_type": "code",
   "execution_count": 8,
   "outputs": [
    {
     "data": {
      "text/plain": "1"
     },
     "execution_count": 8,
     "metadata": {},
     "output_type": "execute_result"
    }
   ],
   "source": [
    "detect_nude_video(\"60p.mp4\")"
   ],
   "metadata": {
    "collapsed": false,
    "ExecuteTime": {
     "start_time": "2023-04-26T20:16:39.600273Z",
     "end_time": "2023-04-26T20:17:03.555442Z"
    }
   }
  },
  {
   "cell_type": "code",
   "execution_count": 6,
   "outputs": [
    {
     "data": {
      "text/plain": "1"
     },
     "execution_count": 6,
     "metadata": {},
     "output_type": "execute_result"
    }
   ],
   "source": [
    "detect_nude_photo(\"3.jpg\")"
   ],
   "metadata": {
    "collapsed": false,
    "ExecuteTime": {
     "start_time": "2023-04-26T20:16:19.791353Z",
     "end_time": "2023-04-26T20:16:20.331474Z"
    }
   }
  },
  {
   "cell_type": "code",
   "execution_count": 7,
   "outputs": [
    {
     "name": "stdout",
     "output_type": "stream",
     "text": [
      "en\n"
     ]
    }
   ],
   "source": [
    "from langdetect import detect\n",
    "\n",
    "# Define the text for language detection\n",
    "text = \"Hello, how are you?\"\n",
    "\n",
    "# Detect the language of the text\n",
    "detected_lang = detect(text)\n",
    "\n",
    "# Print the detected language\n",
    "print(detected_lang)"
   ],
   "metadata": {
    "collapsed": false,
    "ExecuteTime": {
     "start_time": "2023-04-26T20:16:20.332475Z",
     "end_time": "2023-04-26T20:16:20.780577Z"
    }
   }
  },
  {
   "cell_type": "code",
   "execution_count": 7,
   "outputs": [],
   "source": [],
   "metadata": {
    "collapsed": false,
    "ExecuteTime": {
     "start_time": "2023-04-26T20:16:20.782577Z",
     "end_time": "2023-04-26T20:16:20.792580Z"
    }
   }
  }
 ],
 "metadata": {
  "kernelspec": {
   "display_name": "Python 3",
   "language": "python",
   "name": "python3"
  },
  "language_info": {
   "codemirror_mode": {
    "name": "ipython",
    "version": 2
   },
   "file_extension": ".py",
   "mimetype": "text/x-python",
   "name": "python",
   "nbconvert_exporter": "python",
   "pygments_lexer": "ipython2",
   "version": "2.7.6"
  }
 },
 "nbformat": 4,
 "nbformat_minor": 0
}
